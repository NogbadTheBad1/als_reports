{
 "cells": [
  {
   "cell_type": "code",
   "execution_count": 1,
   "metadata": {},
   "outputs": [],
   "source": [
    "import pandas as pd\n",
    "import numpy as np\n",
    "import matplotlib.pyplot as plt\n",
    "\n",
    "\n",
    "# Pythia Sports Data analysis exercise\n",
    "# Below are a few analysis questions based on clustering. We would prefer if MATLAB/Python/R is used,\n",
    "# but you will not be penalized for using any other appropriate programming language. You may use any\n",
    "# open access libraries and packages. You should have received a dataset in a .csv file along with this\n",
    "# document to use. If you have any questions about this exercise, feel free to e-mail\n",
    "# Please answer the following questions and append or attach the code you have written.\n",
    "# 1. The dataset is a sample of 500 points from a 2D multivariate Gaussian mixture distribution. Plot\n",
    "# the data points.\n",
    "# 2. Use a clustering algorithm of your choice to group the data. Does your algorithm require the\n",
    "# number of clusters or distance measure to be defined? If so, how do you initialize these?\n",
    "# 3. Find the mean of each cluster.\n",
    "# 4. Find the covariance matrix for each cluster. Explain what the covariance matrix represents.\n",
    "# 5. How well does the model perform? How would you validate your model given more data points?\n",
    "# 6. Generate a sample of points from a mixture of two 3D multivariate Gaussian distributions. Plot\n",
    "# your sample points. Repeat your clustering analysis.\n",
    "# 7. Generalize your code to be able to generate a sample of a mixture of N 3D multivariate Gaussian\n",
    "# distributions. (N should be configurable by a simple parameter near the top of your script.)\n",
    "# 8. What assumptions are you making when choosing the clustering algorithm in step 2? Will the\n",
    "# algorithm still perform well if the data were sampled from a uniform distribution or a radial\n",
    "# distribution? What clustering algorithm would you choose in these cases?\n",
    "# 9. Any final comments? Remember to append or attach the code you have written and run. \n",
    "\n",
    "df = pd.read_csv('sampledata_20190313.csv')\n",
    "\n",
    "df.columns = ['a', 'b']\n",
    "\n",
    "#plt.scatter(df['a'].values, df['b'].values, c='r', alpha=0.5, marker='x')\n",
    "#plt.show()\n",
    "\n",
    "df_s = df.sort_values(by='a', axis=0)\n",
    "\n",
    "# I'd like to quickly say that I had fun working through these quesions\n",
    "# And that it was a good challenge - Kudos to whoever (whomever?) made it\n",
    "\n",
    "# Here we can see that there are bivariate gaussian clusters and a few anomalies\n",
    "# Also the leftmost cluster looks like it might be composed of 2 or more gaussian clusters\n",
    "# If we zoom in to the middle cluster..\n",
    "# The markers have transparency, so you can see duplicted points as darker red crosses:\n",
    "# and indeed when we look for duplicates in the data we can confirm they exist:\n",
    "# *Length of duplicates*\n",
    "# *example of duplicate*\n",
    "# In a real life scenario we would question the validity of these duplicates and consider removing them.\n",
    "# For the rest of this presentation I will arbitrarily choose to leave them in.\n"
   ]
  },
  {
   "cell_type": "code",
   "execution_count": 8,
   "metadata": {},
   "outputs": [],
   "source": [
    "df_s.reset_index(inplace=True, drop=True)"
   ]
  },
  {
   "cell_type": "code",
   "execution_count": 9,
   "metadata": {},
   "outputs": [],
   "source": [
    "\n",
    "duplication_series = (df_s == df_s.shift(1))\n"
   ]
  },
  {
   "cell_type": "code",
   "execution_count": 10,
   "metadata": {},
   "outputs": [
    {
     "data": {
      "text/plain": [
       "RangeIndex(start=0, stop=499, step=1)"
      ]
     },
     "execution_count": 10,
     "metadata": {},
     "output_type": "execute_result"
    }
   ],
   "source": [
    "duplication_series.index"
   ]
  },
  {
   "cell_type": "code",
   "execution_count": 31,
   "metadata": {},
   "outputs": [
    {
     "name": "stdout",
     "output_type": "stream",
     "text": [
      "<class 'pandas.core.frame.DataFrame'>\n",
      "Int64Index: 94 entries, 52 to 498\n",
      "Data columns (total 2 columns):\n",
      "a    94 non-null float64\n",
      "b    94 non-null float64\n",
      "dtypes: float64(2)\n",
      "memory usage: 2.2 KB\n"
     ]
    }
   ],
   "source": [
    "df[df.duplicated()].info()"
   ]
  },
  {
   "cell_type": "code",
   "execution_count": 19,
   "metadata": {},
   "outputs": [
    {
     "data": {
      "text/html": [
       "<div>\n",
       "<style scoped>\n",
       "    .dataframe tbody tr th:only-of-type {\n",
       "        vertical-align: middle;\n",
       "    }\n",
       "\n",
       "    .dataframe tbody tr th {\n",
       "        vertical-align: top;\n",
       "    }\n",
       "\n",
       "    .dataframe thead th {\n",
       "        text-align: right;\n",
       "    }\n",
       "</style>\n",
       "<table border=\"1\" class=\"dataframe\">\n",
       "  <thead>\n",
       "    <tr style=\"text-align: right;\">\n",
       "      <th></th>\n",
       "      <th>a</th>\n",
       "      <th>b</th>\n",
       "    </tr>\n",
       "  </thead>\n",
       "  <tbody>\n",
       "    <tr>\n",
       "      <th>14</th>\n",
       "      <td>-15.397</td>\n",
       "      <td>15.403</td>\n",
       "    </tr>\n",
       "    <tr>\n",
       "      <th>52</th>\n",
       "      <td>-15.397</td>\n",
       "      <td>15.403</td>\n",
       "    </tr>\n",
       "  </tbody>\n",
       "</table>\n",
       "</div>"
      ],
      "text/plain": [
       "         a       b\n",
       "14 -15.397  15.403\n",
       "52 -15.397  15.403"
      ]
     },
     "execution_count": 19,
     "metadata": {},
     "output_type": "execute_result"
    }
   ],
   "source": [
    "df[df['a'] == -15.397000]"
   ]
  },
  {
   "cell_type": "code",
   "execution_count": 20,
   "metadata": {},
   "outputs": [
    {
     "data": {
      "text/plain": [
       "<matplotlib.collections.PathCollection at 0x22552a58>"
      ]
     },
     "execution_count": 20,
     "metadata": {},
     "output_type": "execute_result"
    },
    {
     "data": {
      "image/png": "[encoded data removed]",
      "text/plain": [
       "<Figure size 432x288 with 1 Axes>"
      ]
     },
     "metadata": {
      "needs_background": "light"
     },
     "output_type": "display_data"
    }
   ],
   "source": [
    "plt.scatter(df['a'].values, df['b'].values, c='r', alpha=0.5, marker='x')"
   ]
  },
  {
   "cell_type": "code",
   "execution_count": 26,
   "metadata": {},
   "outputs": [
    {
     "data": {
      "text/plain": [
       "<matplotlib.collections.PathCollection at 0x227bc358>"
      ]
     },
     "execution_count": 26,
     "metadata": {},
     "output_type": "execute_result"
    },
    {
     "data": {
      "image/png": "[encoded data removed]",
      "text/plain": [
       "<Figure size 432x288 with 1 Axes>"
      ]
     },
     "metadata": {
      "needs_background": "light"
     },
     "output_type": "display_data"
    }
   ],
   "source": [
    "plt.xlim(-4,6)\n",
    "plt.ylim(2,10)\n",
    "plt.scatter(df['a'].values, df['b'].values, c='r', alpha=0.5, marker='x')"
   ]
  },
  {
   "cell_type": "code",
   "execution_count": null,
   "metadata": {},
   "outputs": [],
   "source": []
  }
 ],
 "metadata": {
  "kernelspec": {
   "display_name": "venvbertie4",
   "language": "python",
   "name": "venvbertie4"
  },
  "language_info": {
   "codemirror_mode": {
    "name": "ipython",
    "version": 3
   },
   "file_extension": ".py",
   "mimetype": "text/x-python",
   "name": "python",
   "nbconvert_exporter": "python",
   "pygments_lexer": "ipython3",
   "version": "3.6.7"
  }
 },
 "nbformat": 4,
 "nbformat_minor": 2
}
